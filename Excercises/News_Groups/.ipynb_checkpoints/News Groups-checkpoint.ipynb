{
 "cells": [
  {
   "cell_type": "code",
   "execution_count": 58,
   "metadata": {},
   "outputs": [],
   "source": [
    "import pandas as pd\n",
    "import numpy as np\n"
   ]
  },
  {
   "cell_type": "code",
   "execution_count": 128,
   "metadata": {},
   "outputs": [
    {
     "name": "stdout",
     "output_type": "stream",
     "text": [
      "total_lines 28\n",
      "28\n",
      "{'Xref': ' cantaloupe.srv.cs.cmu.edu alt.atheism', 'Newsgroups': ' alt.atheism,soc.motss,rec.scouting', 'Path': ' cantaloupe.srv.cs.cmu.edu!crabapple.srv.cs.cmu.edu!fs7.ece.cmu.edu!europa.eng.gtefsd.com!howland.reston.ans.net!wupost!uunet!newsgate.watson.ibm.com!yktnews.watson.ibm.com!watson!Watson.Ibm.Com!strom', 'From': ' strom@Watson.Ibm.Com (Rob Strom)', 'Subject': ' Re', 'Sender': ' @watson.ibm.com', 'Message-ID': ' <1993Apr05.180116.43346@watson.ibm.com>', 'Date': ' Mon, 05 Apr 93 18', 'Distribution': ' usa', 'References': ' <C47EFs.3q47@austin.ibm.com> <1993Mar22.033150.17345@cbnewsl.cb.att.com> <N4HY.93Apr5120934@harder.ccr-p.ida.org>', 'Organization': ' IBM Research', 'Lines': ' 15'}\n",
      "\n",
      "=========Message=======\n",
      " \n",
      "In article <N4HY.93Apr5120934@harder.ccr-p.ida.org>, n4hy@harder.ccr-p.ida.org (Bob McGwier) writes:\n",
      "\n",
      "|> [1] HOWEVER, I hate economic terrorism and political correctness\n",
      "|> worse than I hate this policy.  \n",
      "\n",
      "\n",
      "|> [2] A more effective approach is to stop donating\n",
      "|> to ANY organizating that directly or indirectly supports gay rights issues\n",
      "|> until they end the boycott on funding of scouts.  \n",
      "\n",
      "Can somebody reconcile the apparent contradiction between [1] and [2]?\n",
      "\n",
      "-- \n",
      "Rob Strom, strom@watson.ibm.com, (914) 784-7641\n",
      "IBM Research, 30 Saw Mill River Road, P.O. Box 704, Yorktown Heights, NY  10598\n",
      "\n"
     ]
    }
   ],
   "source": [
    "file = open('newsdata/alt.atheism/51121')\n",
    "raw_content = file.read()\n",
    "# print('raw', raw_content)\n",
    "lines = raw_content.splitlines()\n",
    "#print('lines', lines)\n",
    "total_lines = len(lines)\n",
    "print('total_lines', total_lines)\n",
    "\n",
    "Headers = {}\n",
    "Content = ''\n",
    "cursor = 0\n",
    "content_lines = 0\n",
    "\n",
    "file.seek(0)\n",
    "\n",
    "for l in file:\n",
    "    cursor += 1\n",
    "        \n",
    "    if ':' in l and not (cursor >= (total_lines - content_lines)):\n",
    "        key = l.split(':')[0]\n",
    "        value = l.split(':')[1].strip('\\n')\n",
    "        if key == 'Lines':\n",
    "            content_lines = int(value)\n",
    "        Headers[key] = value\n",
    "    else:\n",
    "        Content += l\n",
    " \n",
    "\n",
    "print(cursor)\n",
    "print(Headers)\n",
    "print('\\n=========Message=======\\n',Content) "
   ]
  },
  {
   "cell_type": "code",
   "execution_count": null,
   "metadata": {},
   "outputs": [],
   "source": []
  },
  {
   "cell_type": "code",
   "execution_count": null,
   "metadata": {},
   "outputs": [],
   "source": []
  },
  {
   "cell_type": "code",
   "execution_count": null,
   "metadata": {},
   "outputs": [],
   "source": []
  }
 ],
 "metadata": {
  "kernelspec": {
   "display_name": "Python 3",
   "language": "python",
   "name": "python3"
  },
  "language_info": {
   "codemirror_mode": {
    "name": "ipython",
    "version": 3
   },
   "file_extension": ".py",
   "mimetype": "text/x-python",
   "name": "python",
   "nbconvert_exporter": "python",
   "pygments_lexer": "ipython3",
   "version": "3.6.4"
  }
 },
 "nbformat": 4,
 "nbformat_minor": 2
}
