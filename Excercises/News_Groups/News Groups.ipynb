{
 "cells": [
  {
   "cell_type": "code",
   "execution_count": 58,
   "metadata": {},
   "outputs": [],
   "source": [
    "import pandas as pd\n",
    "import numpy as np\n"
   ]
  },
  {
   "cell_type": "code",
   "execution_count": 197,
   "metadata": {},
   "outputs": [],
   "source": [
    "news = pd.DataFrame([{'category': 'alt.atheism', 'file_code': 51121}])"
   ]
  },
  {
   "cell_type": "code",
   "execution_count": 192,
   "metadata": {},
   "outputs": [],
   "source": [
    "file = open('newsdata/alt.atheism/51121')\n",
    "raw_content = file.read()\n",
    "# print('raw', raw_content)\n",
    "lines = raw_content.splitlines()\n",
    "#print('lines', lines)\n",
    "total_lines = len(lines)\n",
    "\n",
    "Headers = {'Message': ''}\n",
    "Content = ''\n",
    "cursor = 0\n",
    "content_lines = 0\n",
    "\n",
    "file.seek(0)\n",
    "\n",
    "for l in file:\n",
    "    cursor += 1\n",
    "        \n",
    "    if ':' in l and  (cursor < (total_lines - content_lines)):\n",
    "        key = l.split(':')[0].lower()\n",
    "        value = l.split(':')[1].strip('\\n')\n",
    "        if key == 'lines':\n",
    "            content_lines = int(value)\n",
    "        Headers[key] = value\n",
    "    else:\n",
    "        Headers['Message'] += l"
   ]
  },
  {
   "cell_type": "code",
   "execution_count": 200,
   "metadata": {},
   "outputs": [
    {
     "data": {
      "text/html": [
       "<div>\n",
       "<style scoped>\n",
       "    .dataframe tbody tr th:only-of-type {\n",
       "        vertical-align: middle;\n",
       "    }\n",
       "\n",
       "    .dataframe tbody tr th {\n",
       "        vertical-align: top;\n",
       "    }\n",
       "\n",
       "    .dataframe thead th {\n",
       "        text-align: right;\n",
       "    }\n",
       "</style>\n",
       "<table border=\"1\" class=\"dataframe\">\n",
       "  <thead>\n",
       "    <tr style=\"text-align: right;\">\n",
       "      <th></th>\n",
       "      <th>Message</th>\n",
       "      <th>category</th>\n",
       "      <th>date</th>\n",
       "      <th>distribution</th>\n",
       "      <th>file_code</th>\n",
       "      <th>from</th>\n",
       "      <th>lines</th>\n",
       "      <th>message-id</th>\n",
       "      <th>newsgroups</th>\n",
       "      <th>organization</th>\n",
       "      <th>path</th>\n",
       "      <th>references</th>\n",
       "      <th>sender</th>\n",
       "      <th>subject</th>\n",
       "      <th>xref</th>\n",
       "    </tr>\n",
       "  </thead>\n",
       "  <tbody>\n",
       "    <tr>\n",
       "      <th>0</th>\n",
       "      <td>NaN</td>\n",
       "      <td>alt.atheism</td>\n",
       "      <td>NaN</td>\n",
       "      <td>NaN</td>\n",
       "      <td>51121.0</td>\n",
       "      <td>NaN</td>\n",
       "      <td>NaN</td>\n",
       "      <td>NaN</td>\n",
       "      <td>NaN</td>\n",
       "      <td>NaN</td>\n",
       "      <td>NaN</td>\n",
       "      <td>NaN</td>\n",
       "      <td>NaN</td>\n",
       "      <td>NaN</td>\n",
       "      <td>NaN</td>\n",
       "    </tr>\n",
       "    <tr>\n",
       "      <th>0</th>\n",
       "      <td>\\nIn article &lt;N4HY.93Apr5120934@harder.ccr-p.i...</td>\n",
       "      <td>NaN</td>\n",
       "      <td>Mon, 05 Apr 93 18</td>\n",
       "      <td>usa</td>\n",
       "      <td>NaN</td>\n",
       "      <td>strom@Watson.Ibm.Com (Rob Strom)</td>\n",
       "      <td>15</td>\n",
       "      <td>&lt;1993Apr05.180116.43346@watson.ibm.com&gt;</td>\n",
       "      <td>alt.atheism,soc.motss,rec.scouting</td>\n",
       "      <td>IBM Research</td>\n",
       "      <td>cantaloupe.srv.cs.cmu.edu!crabapple.srv.cs.cm...</td>\n",
       "      <td>&lt;C47EFs.3q47@austin.ibm.com&gt; &lt;1993Mar22.03315...</td>\n",
       "      <td>@watson.ibm.com</td>\n",
       "      <td>Re</td>\n",
       "      <td>cantaloupe.srv.cs.cmu.edu alt.atheism</td>\n",
       "    </tr>\n",
       "  </tbody>\n",
       "</table>\n",
       "</div>"
      ],
      "text/plain": [
       "                                             Message     category  \\\n",
       "0                                                NaN  alt.atheism   \n",
       "0  \\nIn article <N4HY.93Apr5120934@harder.ccr-p.i...          NaN   \n",
       "\n",
       "                 date distribution  file_code  \\\n",
       "0                 NaN          NaN    51121.0   \n",
       "0   Mon, 05 Apr 93 18          usa        NaN   \n",
       "\n",
       "                                from lines  \\\n",
       "0                                NaN   NaN   \n",
       "0   strom@Watson.Ibm.Com (Rob Strom)    15   \n",
       "\n",
       "                                 message-id  \\\n",
       "0                                       NaN   \n",
       "0   <1993Apr05.180116.43346@watson.ibm.com>   \n",
       "\n",
       "                            newsgroups   organization  \\\n",
       "0                                  NaN            NaN   \n",
       "0   alt.atheism,soc.motss,rec.scouting   IBM Research   \n",
       "\n",
       "                                                path  \\\n",
       "0                                                NaN   \n",
       "0   cantaloupe.srv.cs.cmu.edu!crabapple.srv.cs.cm...   \n",
       "\n",
       "                                          references            sender  \\\n",
       "0                                                NaN               NaN   \n",
       "0   <C47EFs.3q47@austin.ibm.com> <1993Mar22.03315...   @watson.ibm.com   \n",
       "\n",
       "  subject                                    xref  \n",
       "0     NaN                                     NaN  \n",
       "0      Re   cantaloupe.srv.cs.cmu.edu alt.atheism  "
      ]
     },
     "execution_count": 200,
     "metadata": {},
     "output_type": "execute_result"
    }
   ],
   "source": [
    "#pd.DataFrame([Headers])\n",
    "news.append([Headers])"
   ]
  },
  {
   "cell_type": "code",
   "execution_count": null,
   "metadata": {},
   "outputs": [],
   "source": []
  },
  {
   "cell_type": "code",
   "execution_count": null,
   "metadata": {},
   "outputs": [],
   "source": []
  }
 ],
 "metadata": {
  "kernelspec": {
   "display_name": "Python 3",
   "language": "python",
   "name": "python3"
  },
  "language_info": {
   "codemirror_mode": {
    "name": "ipython",
    "version": 3
   },
   "file_extension": ".py",
   "mimetype": "text/x-python",
   "name": "python",
   "nbconvert_exporter": "python",
   "pygments_lexer": "ipython3",
   "version": "3.6.4"
  }
 },
 "nbformat": 4,
 "nbformat_minor": 2
}
